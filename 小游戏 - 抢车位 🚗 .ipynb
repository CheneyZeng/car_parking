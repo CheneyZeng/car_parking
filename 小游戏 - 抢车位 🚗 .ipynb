{
 "cells": [
  {
   "cell_type": "markdown",
   "metadata": {},
   "source": [
    "![udlogo.png](img/logo1.png)"
   ]
  },
  {
   "cell_type": "markdown",
   "metadata": {},
   "source": [
    "![logo3.png](img/logo3.png)"
   ]
  },
  {
   "cell_type": "markdown",
   "metadata": {},
   "source": [
    "版本号：1.2\n",
    "\n",
    "作者：Jack Chen\n",
    "\n",
    "版本优化内容：\n",
    "\n",
    "1. 导入了nbextension模块中的table of contents，意义在于帮助老师在上课过程中更好地把控进度\n",
    "\n",
    "2. 添加了6E教学模型中的互动模块，让老师积极思考什么时间点可以与学生进行互动\n",
    "\n",
    "3. 添加了6E教学模型中的学生自主思考模块，让学生在动手写代码前先写出伪代码，而不是直接依照老师代码直接搬运\n",
    "\n",
    "\n",
    "历史版本协助：Jerry、Rita、ShuWen\n",
    "\n",
    "更新日期：2018.12.17"
   ]
  },
  {
   "cell_type": "markdown",
   "metadata": {},
   "source": [
    "# 课程开发要点\n",
    "\n",
    "\n",
    "1. **课程结构**\n",
    "\n",
    "    1.1 可以参照下方的课程架构部分\n",
    "    \n",
    "    1.2 关于时间设计，可以在习题的题干后面标注预估完成时间\n",
    "    \n",
    "    1.3 可以根据各课程的需要拓展教学板块\n",
    "\n",
    "\n",
    "2. **形式**\n",
    "\n",
    "    2.1 加粗：使用在课程重点内容的部分，用于强调其重要性 \n",
    "        用法：**TEXT**\n",
    "        \n",
    "    2.2 字体、字号与颜色：用于不同模块的区分，例如：知识点环节的标题可以使用蓝色，举例子的环节可以使用紫色\n",
    "        用法：<font color=#0099ff size=7 face=\"黑体\">color=#0099ff size=72 face=\"黑体\"</font>\n",
    "        \n",
    "    2.3 加载图片：多媒体的使用是增强课程趣味性的方法之一，因此在不侵犯他人版权的情况下可以适当配图进行说明,请注意本节课使用到的所有图片应该放置在同一个文件夹内，例如img，路径设置如下：\n",
    "        ![logo1.png](img/logo1.png)\n",
    "        \n",
    "    2.4 加载视频：同样的道理，导入视频也可以帮助学生理解内容，但需要注意视频是否能够正常播放，最好将视频放置在同一个文件夹中\n",
    "        <video controls src=\"video/dog.mp4\" />\n",
    "        \n",
    "    2.5 在【标记】状态下按右键可以选择一些表情作警告提示⚠️等作用\n",
    "    \n",
    "    2.6 更多功能请访问官网文档：https://jupyter-notebook.readthedocs.io/en/latest/notebook.html\n",
    "\n",
    "\n",
    "3. **LOGO**\n",
    "\n",
    "    3.1 在直播课中不使用Udacity教室，因此需要在大纲的开头和结尾都放上Udacity的LOGO\n",
    "    \n",
    "    \n",
    "4. **打包与使用**\n",
    "\n",
    "    4.1 在完成了课件之后，应在notebook同一目录下创建一个文件夹，把所用到的图片、视频放在这个文件夹中，添加为压缩包\n",
    "    \n",
    "    4.2 最后分享给助教老师的课件形式应该是一个完整的压缩包\n",
    "    \n",
    "    \n",
    "    "
   ]
  },
  {
   "cell_type": "markdown",
   "metadata": {},
   "source": [
    "# 小游戏 - 抢车位🚗\n",
    "\n",
    "欢迎来到 编程起跑线 的最后一个项目！\n",
    "\n",
    "恭喜你学完了所有的课程内容，现在将用你在这门课中学习到的知识，一起来实现这个小游戏。\n",
    "\n",
    "这个游戏 将会实现以下 3 个功能：\n",
    "- 记录小车🚗停到终点的时间；\n",
    "- 记录所有用户的数据，并排序；\n",
    "- 得到当前用户在历史数据中的排名；\n",
    "- 让小车自动停车；"
   ]
  },
  {
   "cell_type": "markdown",
   "metadata": {},
   "source": [
    "# Step1 用键盘控制小车停到合适的位置\n",
    "\n",
    "我们已经通过 pygame 搭建了一个游戏的框架，因此你可以直接运行来对这个游戏进行简单的尝试。\n",
    "\n",
    "运行之后，你会打开一个新的窗口来运行你的小车。\n",
    "\n",
    "通过 键盘上的 ⬆️⬇️⬅️➡️ 按钮，你可以控制你的 🚗 ，走到右边两辆车中间的空位，在 🚗 抵达 红圈 的位置，你就会得到一个终止的时间 参数，请将该 时间 输出。\n",
    "\n",
    "你的小车如果撞上停止的车辆，小车会因为撞击而爆炸；\n",
    "\n",
    "**如需退出窗口，请使用键盘ESC**\n",
    "\n",
    "**SPACE可以帮助你重启这个项目**\n",
    "\n",
    "![](https://upload.wikimedia.org/wikipedia/commons/2/26/ParallelParkingAnimation.gif)"
   ]
  },
  {
   "cell_type": "markdown",
   "metadata": {},
   "source": [
    "# Step2 完成历史表单的排序\n",
    "\n",
    "假设你新建了一个空的txt文档，之后每次存储一个数据，你都会按照顺序找到合适的位置插入。\n",
    "\n",
    "你需要完成的 4 步操作：\n",
    "- 读取现有文档，'data.txt'，初次操作时，该文档中没有数据；\n",
    "- 随机生成一个新的数据；\n",
    "- 将数据按照序列的排序，找到适合的位置插入，并返回当前排名；\n",
    "- 将数据写入 'data.txt' 文件；\n",
    "\n",
    "**相应的课程参考内容可追溯课程中的章节；**\n",
    "\n",
    "https://classroom.udacity.com/nanodegrees/nd601-cn-basic/parts/8b9afd6d-c110-4a9f-9892-fcca7229238c/modules/67b3e6f6-e550-447d-9c44-3353e5e64097/lessons/37fbd282-137b-4866-8259-3c87acc6be97/concepts/c0933778-a840-4323-b357-fd17aaca0da1"
   ]
  },
  {
   "cell_type": "markdown",
   "metadata": {},
   "source": [
    "## 读文档\n",
    "- 根据 路径，读入文档\n",
    "- 函数中 需要传入 路径参数，并 返回 列表\n",
    "\n",
    "⚠️ 该题的考核要点，读入的文本，需要 通过 split 函数把内容区分开；\n",
    "\n",
    "⚠️ 文本中的数据是通过 逗号来区分，存储的。"
   ]
  },
  {
   "cell_type": "code",
   "execution_count": null,
   "metadata": {},
   "outputs": [],
   "source": [
    "#################################\n",
    "# 根据 路径，读入文档\n",
    "# \n",
    "# 函数中 需要传入 路径参数，并 返回 列表\n",
    "#################################\n",
    "\n",
    "def read_file(path):\n",
    "    \n",
    "    ############ TODO###############\n",
    "    with open(path) as history:\n",
    "        lists = history.read()\n",
    "    lists = lists.split(',')\n",
    "    \n",
    "    ############ TODO###############\n",
    "    return lists\n",
    "\n",
    "path = 'history.txt'\n",
    "print(read_file(path))"
   ]
  },
  {
   "cell_type": "markdown",
   "metadata": {},
   "source": [
    "## 写文档\n",
    "- 根据路径，写文档\n",
    "- 函数中需传入 文档路径，及列表\n",
    "- 无需返回值\n",
    "\n",
    "⚠️ 该题的考核要点，书写时需要遍历列表；\n",
    "\n",
    "⚠️ 在每个元素写入之后，需写入 逗号 作为分隔符。"
   ]
  },
  {
   "cell_type": "code",
   "execution_count": null,
   "metadata": {},
   "outputs": [],
   "source": [
    "#################################\n",
    "# 根据路径，写文档\n",
    "# 函数中需传入 文档路径，及列表\n",
    "# 无需返回值\n",
    "#################################\n",
    "\n",
    "def write_file(path, lists):\n",
    "    \n",
    "    ############ TODO###############\n",
    "    with open(path,'w') as history:\n",
    "        for li in lists:\n",
    "            history.write(str(li))\n",
    "            history.write(',')\n",
    "    ############ TODO###############\n",
    "    \n",
    "path = 'history.txt'\n",
    "lists = ['76','45','32']\n",
    "write_file(path, lists)\n",
    "print(read_file(path))"
   ]
  },
  {
   "cell_type": "markdown",
   "metadata": {},
   "source": [
    "## 找到历史数据中的排名\n",
    "- 函数中输入 列表 及 当前数据\n",
    "- 在列表中，根据排序找到排名所在的位置\n",
    "- 将当前数据插入 列表，获得 新列表\n",
    "- 返回 排名 及 新列表"
   ]
  },
  {
   "cell_type": "code",
   "execution_count": null,
   "metadata": {},
   "outputs": [],
   "source": [
    "#################################\n",
    "# 根据路径，写文档\n",
    "# 函数中需传入 文档路径，及列表\n",
    "# 无需返回值\n",
    "#################################\n",
    "\n",
    "def insert(lists, num):\n",
    "    \n",
    "    ############ TODO###############\n",
    "    new = []\n",
    "    flag = True\n",
    "    rank = 0\n",
    "    for i,l in enumerate(lists):\n",
    "        if flag and float(l) < num:\n",
    "            rank = i\n",
    "            new.append(num)\n",
    "            flag = False\n",
    "        new.append(l)\n",
    "    ############ TODO###############\n",
    "    \n",
    "    return new,rank+1\n",
    "\n",
    "\n",
    "path = 'history.txt'\n",
    "lists = ['76','45','32']\n",
    "\n",
    "lists, rank = insert(lists,50)\n",
    "\n",
    "write_file(path, lists)\n",
    "print(read_file(path))\n",
    "print(rank)"
   ]
  },
  {
   "cell_type": "markdown",
   "metadata": {},
   "source": [
    "# Step3 自动停车\n",
    "\n",
    "其实你也可以使用代码来控制你的 🚗 ，因此请 通过下述函数 来控制小车停到他需要停到的位置；\n",
    "\n",
    "- car.accelerate()\n",
    "- car.deaccelerate()\n",
    "- car.steerright()\n",
    "- car.steerleft()\n",
    "来控制小车，让他成功倒车进入两车中间；\n",
    "你的小车如果撞上停止的车辆，小车会因为撞击而爆炸；\n",
    "\n",
    "**如需退出窗口，请使用键盘ESC**\n",
    "\n",
    "**SPACE可以帮助你重启这个项目**\n",
    "\n",
    "提示：你可以使用 🚗 当前的位置 x 及 y 来判断小车需要做什么；\n",
    "\n",
    "⚠️小车的运动，必须以 字符串 形式 返回，不然会报错；\n"
   ]
  },
  {
   "cell_type": "code",
   "execution_count": null,
   "metadata": {},
   "outputs": [
    {
     "name": "stdout",
     "output_type": "stream",
     "text": [
      "pygame 1.9.4\n",
      "Hello from the pygame community. https://www.pygame.org/contribute.html\n"
     ]
    }
   ],
   "source": [
    "#################################\n",
    "# 这里是一个仅为倒车的例子，你可以通过\n",
    "# 调整代码，把车停到目标位置\n",
    "#################################\n",
    "\n",
    "from car_game import *\n",
    "\n",
    "def backend(x,y):\n",
    "    \n",
    "    ############ TODO###############\n",
    "    if y < 300:\n",
    "        return('car.deaccelerate()')\n",
    "    else:\n",
    "        return('pass')\n",
    "    ############ TODO###############\n",
    "    \n",
    "car_game(backend)"
   ]
  },
  {
   "cell_type": "markdown",
   "metadata": {},
   "source": [
    "<a id='step6'></a>\n",
    "# 优达课程资料    \n",
    "    \n",
    "    希望本节课你已经掌握了所有的知识点，老师在这里也列出了本节课相关的资料\n",
    "\n",
    "    温故而知新，同学们可以自觉进入到Udacity的在线教室观看哦\n",
    "\n",
    "    1. 课程对应的视频及练习 \n",
    "        ***这里放置URL***\n",
    "\n",
    "    2. 课程源代码链接\n",
    "        ***github链接***\n"
   ]
  },
  {
   "cell_type": "markdown",
   "metadata": {},
   "source": [
    "<a id='step7'></a>\n",
    "# 作业内容与提交时间\n",
    "    1 作业内容：\n",
    "\n",
    "    2 提交方式：\n",
    "\n",
    "    3 截止时间：\n",
    "\n",
    "    4 获取成绩时间：\n",
    "\n",
    "    5 获取成绩方式："
   ]
  },
  {
   "cell_type": "markdown",
   "metadata": {},
   "source": [
    "<a id='step8'></a>\n",
    "# 导师联系与答疑\n",
    "    有任何问题可以联系导师进行1on1的解答\n",
    "\n",
    "    WeChat：\n",
    "\n",
    "    Phone:\n",
    "\n",
    "    谢谢！我们下次课再见！"
   ]
  },
  {
   "cell_type": "markdown",
   "metadata": {},
   "source": [
    "**最后放上UDACITY的LOGO增强版权保护和品牌宣传**"
   ]
  },
  {
   "cell_type": "markdown",
   "metadata": {},
   "source": [
    "![logo2.png](img/logo2.jpg)"
   ]
  }
 ],
 "metadata": {
  "kernelspec": {
   "display_name": "Python 3",
   "language": "python",
   "name": "python3"
  },
  "language_info": {
   "codemirror_mode": {
    "name": "ipython",
    "version": 3
   },
   "file_extension": ".py",
   "mimetype": "text/x-python",
   "name": "python",
   "nbconvert_exporter": "python",
   "pygments_lexer": "ipython3",
   "version": "3.6.7"
  },
  "toc": {
   "base_numbering": 1,
   "nav_menu": {},
   "number_sections": true,
   "sideBar": true,
   "skip_h1_title": false,
   "title_cell": "Table of Contents",
   "title_sidebar": "Contents",
   "toc_cell": false,
   "toc_position": {
    "height": "calc(100% - 180px)",
    "left": "10px",
    "top": "150px",
    "width": "274.391px"
   },
   "toc_section_display": true,
   "toc_window_display": true
  }
 },
 "nbformat": 4,
 "nbformat_minor": 2
}
